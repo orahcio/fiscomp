{
 "cells": [
  {
   "cell_type": "markdown",
   "metadata": {},
   "source": [
    "# Raízes de funções"
   ]
  },
  {
   "cell_type": "markdown",
   "metadata": {},
   "source": [
    "Encontre as raízes das seguintes funções por meio do método da Bisseção e de Newton-Raphson, informe o número de interações até alcançar a tolerância solicitada.\n",
    "\n",
    "a. $f(x) = e^{sin(x)} - 2cos(3x)$ no intervalo $[-5;5]$ e tolerância $10^{-5}$;\n",
    "\n",
    "b. $f(x) = (x-1)^2 (x+1)^2 + 1/4 - \\sqrt{(1-x^2)}$, tolerância de $10^{-5}$, encontre as quatro raízes entre $[-1,1]$;\n",
    "\n",
    "c. $f(x) = \\frac{\\sin(x)}{x}$, tolerância de $10^{-5}$, encontre uma raíz entre $[3,4]$;\n",
    "\n",
    "d. $f(x) = \\sin(x) - \\frac{2}{x} \\cos(x) = 0$, tolerância de $10^{-5}$, encontre as três primeiras raízes, procure qual o intervalo."
   ]
  },
  {
   "cell_type": "markdown",
   "metadata": {},
   "source": [
    "# Gravitação\n",
    "\n",
    "Estime a velocidade de escape (com três algarismos significativos) de uma corpo em órbita à um outro objeto de massa cem vezes maior que o primeiro."
   ]
  },
  {
   "cell_type": "markdown",
   "metadata": {},
   "source": [
    "# Lei de Coulomb\n",
    "\n",
    "A lei de Coulomb torna a segunda lei de Newton sobre uma partícula carragada de massa $m_1$, devido a duas outras partículas de massa $m_2$ e $m_3$, na forma:"
   ]
  },
  {
   "cell_type": "markdown",
   "metadata": {},
   "source": [
    "$$m_1\\frac{d\\mathbf{v}_1}{dt}=\\frac{1}{4\\pi\\varepsilon_0}\\frac{q_2q_1}{\\left(\\mathbf{r}_1-\\mathbf{r}_2\\right)^2}\\hat r_{12}+\\frac{1}{4\\pi\\varepsilon_0}\\frac{q_3q_1}{\\left(\\mathbf{r}_1-\\mathbf{r}_3\\right)^2}\\hat r_{13}$$"
   ]
  },
  {
   "cell_type": "markdown",
   "metadata": {},
   "source": [
    "note que o caráter atrativo da força é dado caso as cargas tenham sinais opostos. Procedemos com as substituições de variáveis para que tenhamos a equação de movimento em termos de parâmetros adimensionais:"
   ]
  },
  {
   "cell_type": "markdown",
   "metadata": {},
   "source": [
    "$$\\frac{\\mathbf{r}}{r_0}=\\vec\\rho$$"
   ]
  },
  {
   "cell_type": "markdown",
   "metadata": {},
   "source": [
    "$$\\sqrt{\\frac{4\\pi\\varepsilon_0r_0M}{Q^2}}v = \\nu$$"
   ]
  },
  {
   "cell_type": "markdown",
   "metadata": {},
   "source": [
    "$$\\sqrt{\\frac{Q^2}{4\\pi\\varepsilon_0r_0^3M}}t=\\tau$$"
   ]
  },
  {
   "cell_type": "markdown",
   "metadata": {},
   "source": [
    "Verifique substituindo pelas dimensões de cada grandeza se haverá alguma dimensão que irá sobrar nas definições acima (no sistema internacional $\\varepsilon_0$ é medido em $C^2s^2/(m^3\\cdot kg)$)"
   ]
  },
  {
   "cell_type": "markdown",
   "metadata": {},
   "source": [
    "Sendo $\\sigma_i=\\frac{q_i}{Q}$, a razaão entre a i-ésima carga e a maior carga, podemos reescrever a equação na forma"
   ]
  },
  {
   "cell_type": "markdown",
   "metadata": {},
   "source": [
    "$$m_1\\frac{\\sqrt{\\frac{Q^2}{4\\pi\\varepsilon_0 r_0^3M}}}{\\sqrt{\\frac{4\\pi\\varepsilon_0r_0M}{Q^2}}}\\frac{d\\mathbf{v}_1}{dt}=\\frac{1}{4\\pi\\varepsilon_0}\\frac{q_2q_1}{r_0^2\\left(\\vec\\rho_1-\\vec\\rho_2\\right)^2}\\hat r_{12} + \\frac{1}{4\\pi\\varepsilon_0}\\frac{q_3q_1}{r_0^2\\left(\\vec\\rho_1-\\vec\\rho_3\\right)^2}\\hat r_{13}$$"
   ]
  },
  {
   "cell_type": "markdown",
   "metadata": {},
   "source": [
    "$$\\frac{m_1}{M}\\frac{d\\nu_1}{d\\tau} = \\frac{\\sigma_1\\sigma_2}{\\left(\\vec\\rho_1-\\vec\\rho_2\\right)^2}\\hat{r}_{12} + \\frac{\\sigma_1\\sigma_3}{\\left(\\vec\\rho_1-\\vec\\rho_3\\right)^2}\\hat{r}_{13},$$ caso a massa $1$ seja maior. Uma outra massa que não é a maior massa se torna,"
   ]
  },
  {
   "cell_type": "markdown",
   "metadata": {},
   "source": [
    "$$\\frac{d\\nu_1}{d\\tau} = \\frac{1}{\\mu_1}\\left[\\frac{\\sigma_1\\sigma_2}{\\left(\\vec\\rho_1-\\vec\\rho_2\\right)^2}\\hat{r}_{12} + \\frac{\\sigma_1\\sigma_3}{\\left(\\vec\\rho_1-\\vec\\rho_3\\right)^2}\\hat{r}_{13}\\right],$$ com $\\mu_i=\\frac{m_i}{M}$ a razão da i-ésima massa em relação a maior massa."
   ]
  },
  {
   "cell_type": "markdown",
   "metadata": {},
   "source": [
    "Assim para o eixo $x$ da partícula $1$ por exemplo a aceleração adimensional fica $$\\frac{d\\nu_{x1}}{d\\tau} = \\frac{\\sigma_1}{\\mu_1}\\left[\\frac{\\sigma_2}{\\left(\\vec\\rho_1-\\vec\\rho_2\\right)^3}\\left(\\rho_{x1}-\\rho_{x2}\\right)+\\frac{\\sigma_3}{\\left(\\vec\\rho_1-\\vec\\rho_3\\right)^3}\\left(\\rho_{x1}-\\rho_{x3}\\right)\\right]$$"
   ]
  },
  {
   "cell_type": "markdown",
   "metadata": {},
   "source": [
    "Sabendo que o átomo de hidrogênio possui um núcleo carregado positivamente e um elétron negativo de cargas de mesmo módulo e sinais opostos e massa do núcleo é a massa do átomo menos a massa eletrônica. Faça uma estimativa da velocidade de escape (com três algarismos siginificativos) nesse sistema adimensional. Após essa estimativa substitua o $r_0$ pelo raio de Bohr $a_0$ e veja quanto vale essa velocidade no sistema internacional. O raio de Bohr é a primeira estimativa do raio de confinamento do elétron dentro do átomo de hidrogênio em seu estado fundamental."
   ]
  },
  {
   "cell_type": "markdown",
   "metadata": {},
   "source": [
    "Após a integração numérica das equações de cada partícula, é possível recuperar os valores no sistema internacional usando as contantes."
   ]
  },
  {
   "cell_type": "code",
   "execution_count": 5,
   "metadata": {},
   "outputs": [
    {
     "data": {
      "text/markdown": [
       "$a_0 = 5,29177211\\cdot10^{-11}m$ (raio de Bohr)\n",
       "\n",
       "$m_e = 9,109383632\\cdot10^{-31}kg$ (massa do elétron)\n",
       "\n",
       "$m_H = 2,386\\cdot10^{-25} kg$ (massa total do átomo de hidrogênio)\n",
       "\n",
       "$e = -1,602\\cdot10^{-19} C$ (carga do elétron)\n"
      ],
      "text/plain": [
       "<IPython.core.display.Markdown object>"
      ]
     },
     "metadata": {},
     "output_type": "display_data"
    }
   ],
   "source": [
    "%%markdown\n",
    "$a_0 = 5,29177211\\cdot10^{-11}m$ (raio de Bohr)\n",
    "\n",
    "$m_e = 9,109383632\\cdot10^{-31}kg$ (massa do elétron)\n",
    "\n",
    "$m_H = 2,386\\cdot10^{-25} kg$ (massa total do átomo de hidrogênio)\n",
    "\n",
    "$e = -1,602\\cdot10^{-19} C$ (carga do elétron)"
   ]
  },
  {
   "cell_type": "markdown",
   "metadata": {},
   "source": [
    "Para conseguir estimar bem a velocidade de escape, ajuste os valores de velocidade inicial e passo temporal de maneira que o elétron (partícula 2) desenvolva uma órbita praticamente circular (lembre-se de colocar uma quantidade de passos de integração suficiente para desenvolver uma órbita completa) e não elípitica, depois disso vá aumentando os valores de velocidade inicial para que obtenha um resultado de escape."
   ]
  },
  {
   "cell_type": "code",
   "execution_count": 6,
   "metadata": {},
   "outputs": [
    {
     "data": {
      "text/markdown": [
       "$\\frac{1}{x}$\n"
      ],
      "text/plain": [
       "<IPython.core.display.Markdown object>"
      ]
     },
     "metadata": {},
     "output_type": "display_data"
    }
   ],
   "source": [
    "%%markdown\n",
    "$\\frac{1}{x}$"
   ]
  },
  {
   "cell_type": "code",
   "execution_count": null,
   "metadata": {},
   "outputs": [],
   "source": []
  }
 ],
 "metadata": {
  "kernelspec": {
   "display_name": "Python 3",
   "language": "python",
   "name": "python3"
  },
  "language_info": {
   "codemirror_mode": {
    "name": "ipython",
    "version": 3
   },
   "file_extension": ".py",
   "mimetype": "text/x-python",
   "name": "python",
   "nbconvert_exporter": "python",
   "pygments_lexer": "ipython3",
   "version": "3.7.2"
  }
 },
 "nbformat": 4,
 "nbformat_minor": 4
}
